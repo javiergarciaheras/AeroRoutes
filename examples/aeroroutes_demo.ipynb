{
 "cells": [
  {
   "metadata": {},
   "cell_type": "markdown",
   "source": [
    "# ✈️ AeroRoutes Demo Notebook\n",
    "This notebook demonstrates how to use the `aeroroutes` library to compute and visualize orthodromic (great-circle) and loxodromic (rhumb-line) routes.\n"
   ],
   "id": "c743e747a3b724a9"
  },
  {
   "cell_type": "code",
   "id": "2331c058-8cd1-41af-a02f-af0c22046406",
   "metadata": {
    "ExecuteTime": {
     "end_time": "2025-04-01T06:47:05.265476Z",
     "start_time": "2025-04-01T06:47:04.279527Z"
    }
   },
   "source": "!pip install aeroroutes numpy matplotlib\n",
   "outputs": [
    {
     "name": "stdout",
     "output_type": "stream",
     "text": [
      "\u001B[31mERROR: Could not find a version that satisfies the requirement aeroroutes (from versions: none)\u001B[0m\u001B[31m\r\n",
      "\u001B[0m\u001B[31mERROR: No matching distribution found for aeroroutes\u001B[0m\u001B[31m\r\n",
      "\u001B[0m"
     ]
    }
   ],
   "execution_count": 1
  },
  {
   "metadata": {},
   "cell_type": "markdown",
   "source": [
    "## 📍 Convert Coordinates to Decimal Degrees\n",
    "We will use the function `convert_dms_to_dec` from `aeroroutes.tools` to convert coordinates.\n"
   ],
   "id": "fe4e4741ce3ced2c"
  },
  {
   "metadata": {},
   "cell_type": "code",
   "outputs": [],
   "execution_count": null,
   "source": [
    "from aeroroutes.tools import convert_dms_to_dec\n",
    "\n",
    "# Madrid (LEMD)\n",
    "LEMD_lon = convert_dms_to_dec(3, 34, 2.47, 'W')\n",
    "LEMD_lat = convert_dms_to_dec(40, 29, 37.62, 'N')\n",
    "\n",
    "# Tokyo (RJAA)\n",
    "RJAA_lon = convert_dms_to_dec(140, 23, 17.66, 'E')\n",
    "RJAA_lat = convert_dms_to_dec(35, 46, 24.78, 'N')\n"
   ],
   "id": "874b3cf0c31fe934"
  },
  {
   "metadata": {},
   "cell_type": "markdown",
   "source": [
    "## 🛫 Compute Routes\n",
    "We will compute both **Orthodrome (Great-Circle)** and **Loxodrome (Rhumb Line)** routes.\n"
   ],
   "id": "3bacd2b24b186f1c"
  },
  {
   "metadata": {},
   "cell_type": "code",
   "outputs": [],
   "execution_count": null,
   "source": [
    "from aeroroutes.routes import ComputeOrto, ComputeLoxo\n",
    "\n",
    "# Compute routes\n",
    "ortographic = ComputeOrto([LEMD_lon, LEMD_lat], [RJAA_lon, RJAA_lat], 100)\n",
    "loxodromic = ComputeLoxo([LEMD_lon, LEMD_lat], [RJAA_lon, RJAA_lat], 100)\n"
   ],
   "id": "3df3d435ae4cbb6b"
  },
  {
   "metadata": {},
   "cell_type": "markdown",
   "source": [
    "## 📍 Get Route Coordinates\n",
    "We extract longitude and latitude points for each route.\n"
   ],
   "id": "d1b4bb4071c7434"
  },
  {
   "metadata": {},
   "cell_type": "code",
   "outputs": [],
   "execution_count": null,
   "source": [
    "lon_o, lat_o = ortographic.get_route()\n",
    "lon_l, lat_l = loxodromic.get_route()\n"
   ],
   "id": "d1bbd93b9cd8052b"
  },
  {
   "metadata": {},
   "cell_type": "markdown",
   "source": [
    "## 📏 Compute Route Distances\n",
    "We calculate the total route distances in kilometers.\n"
   ],
   "id": "894a55d426841587"
  },
  {
   "metadata": {},
   "cell_type": "code",
   "outputs": [],
   "execution_count": null,
   "source": [
    "d_o = ortographic.get_distance_km()\n",
    "d_l = loxodromic.get_distance_km()\n",
    "\n",
    "print(f\"Orthodrome Distance: {d_o:.2f} km\")\n",
    "print(f\"Loxodrome Distance: {d_l:.2f} km\")\n"
   ],
   "id": "90a01ceb00f8b873"
  },
  {
   "metadata": {},
   "cell_type": "markdown",
   "source": [
    "## 📐 Compute Arc and Geographic Track\n",
    "We analyze the arc between points (for Orthodrome) and the geographic track angle (for Loxodrome).\n"
   ],
   "id": "846a2ce90b21bdb1"
  },
  {
   "metadata": {},
   "cell_type": "code",
   "outputs": [],
   "execution_count": null,
   "source": [
    "d_arc_o = ortographic.get_arc_between_points()\n",
    "gamma_o = loxodromic.get_geographic_track()\n"
   ],
   "id": "7001393c6d235831"
  },
  {
   "metadata": {},
   "cell_type": "markdown",
   "source": [
    "## 🌍 Plot Routes - Mercator Projection\n",
    "The following plot visualizes the routes using a **Mercator projection**.\n"
   ],
   "id": "65d646e2976058a9"
  },
  {
   "metadata": {},
   "cell_type": "code",
   "outputs": [],
   "execution_count": null,
   "source": [
    "from aeroroutes.tools import plot_routes\n",
    "import numpy as np\n",
    "\n",
    "kwargs_merc = {\n",
    "    \"projection\": 'merc', \"llcrnrlat\": 20, \"urcrnrlat\": 80, \"llcrnrlon\": -20,\n",
    "    \"urcrnrlon\": 150, \"lat_ts\": 20, \"resolution\": 'c'\n",
    "}\n",
    "\n",
    "plot_routes(ortographic.lon_deg, ortographic.lat_deg,\n",
    "            parallels=np.arange(30., 91., 30.),\n",
    "            meridians=np.arange(-10., 181., 60.), **kwargs_merc)\n",
    "\n",
    "plot_routes(loxodromic.lon_deg, loxodromic.lat_deg,\n",
    "            parallels=np.arange(30., 91., 30.),\n",
    "            meridians=np.arange(-10., 181., 60.), **kwargs_merc)\n"
   ],
   "id": "70072b9f09069a64"
  },
  {
   "metadata": {},
   "cell_type": "markdown",
   "source": [
    "## 🗺️ Plot Routes - Lambert Conformal Projection\n",
    "The following plot visualizes the routes using a **Lambert Conformal projection**.\n"
   ],
   "id": "4f0362e012354a7f"
  },
  {
   "metadata": {},
   "cell_type": "code",
   "outputs": [],
   "execution_count": null,
   "source": [
    "kwargs_lcc = {\n",
    "    \"projection\": 'lcc', \"width\": 12000000, \"height\": 9000000, \"rsphere\": (6378137.00, 6356752.3142),\n",
    "    \"resolution\": 'l', \"area_thresh\": 1000., \"lat_1\": 45, \"lat_2\": 55, \"lat_0\": 50, \"lon_0\": 80.\n",
    "}\n",
    "\n",
    "plot_routes(ortographic.lon_deg, ortographic.lat_deg,\n",
    "            parallels=np.arange(30., 91., 30.),\n",
    "            meridians=np.arange(-10., 181., 60.), **kwargs_lcc)\n",
    "\n",
    "plot_routes(loxodromic.lon_deg, loxodromic.lat_deg,\n",
    "            parallels=np.arange(30., 91., 30.),\n",
    "            meridians=np.arange(-10., 181., 60.), **kwargs_lcc)\n"
   ],
   "id": "296d9d8504894284"
  }
 ],
 "metadata": {
  "kernelspec": {
   "display_name": "Python 3 (ipykernel)",
   "language": "python",
   "name": "python3"
  },
  "language_info": {
   "codemirror_mode": {
    "name": "ipython",
    "version": 3
   },
   "file_extension": ".py",
   "mimetype": "text/x-python",
   "name": "python",
   "nbconvert_exporter": "python",
   "pygments_lexer": "ipython3",
   "version": "3.12.9"
  }
 },
 "nbformat": 4,
 "nbformat_minor": 5
}
