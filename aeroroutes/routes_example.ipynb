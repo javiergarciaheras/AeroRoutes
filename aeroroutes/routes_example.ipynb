{
 "cells": [
  {
   "cell_type": "code",
   "execution_count": 2,
   "metadata": {},
   "outputs": [
    {
     "ename": "ModuleNotFoundError",
     "evalue": "No module named 'aeroroutes'",
     "output_type": "error",
     "traceback": [
      "\u001B[0;31m---------------------------------------------------------------------------\u001B[0m",
      "\u001B[0;31mModuleNotFoundError\u001B[0m                       Traceback (most recent call last)",
      "\u001B[0;32m<ipython-input-2-7b2b1c46deee>\u001B[0m in \u001B[0;36m<module>\u001B[0;34m\u001B[0m\n\u001B[0;32m----> 1\u001B[0;31m \u001B[0;32mfrom\u001B[0m \u001B[0mtools\u001B[0m \u001B[0;32mimport\u001B[0m \u001B[0mconvert_dms_to_dec\u001B[0m\u001B[0;34m\u001B[0m\u001B[0;34m\u001B[0m\u001B[0m\n\u001B[0m\u001B[1;32m      2\u001B[0m \u001B[0;32mfrom\u001B[0m \u001B[0mroutes\u001B[0m \u001B[0;32mimport\u001B[0m \u001B[0mComputeOrto\u001B[0m\u001B[0;34m\u001B[0m\u001B[0;34m\u001B[0m\u001B[0m\n\u001B[1;32m      3\u001B[0m \u001B[0;32mfrom\u001B[0m \u001B[0mroutes\u001B[0m \u001B[0;32mimport\u001B[0m \u001B[0mComputeLoxo\u001B[0m\u001B[0;34m\u001B[0m\u001B[0;34m\u001B[0m\u001B[0m\n\u001B[1;32m      4\u001B[0m \u001B[0;32mfrom\u001B[0m \u001B[0mtools\u001B[0m \u001B[0;32mimport\u001B[0m \u001B[0mplot_routes\u001B[0m\u001B[0;34m\u001B[0m\u001B[0;34m\u001B[0m\u001B[0m\n\u001B[1;32m      5\u001B[0m \u001B[0;32mimport\u001B[0m \u001B[0mnumpy\u001B[0m \u001B[0;32mas\u001B[0m \u001B[0mnp\u001B[0m\u001B[0;34m\u001B[0m\u001B[0;34m\u001B[0m\u001B[0m\n",
      "\u001B[0;32m~/workspace/00_GitLab/AeroRoutes/aeroroutes/tools.py\u001B[0m in \u001B[0;36m<module>\u001B[0;34m\u001B[0m\n\u001B[1;32m      1\u001B[0m \u001B[0;32mimport\u001B[0m \u001B[0mmatplotlib\u001B[0m\u001B[0;34m.\u001B[0m\u001B[0mpyplot\u001B[0m \u001B[0;32mas\u001B[0m \u001B[0mplt\u001B[0m\u001B[0;34m\u001B[0m\u001B[0;34m\u001B[0m\u001B[0m\n\u001B[1;32m      2\u001B[0m \u001B[0;32mfrom\u001B[0m \u001B[0mmpl_toolkits\u001B[0m\u001B[0;34m.\u001B[0m\u001B[0mbasemap\u001B[0m \u001B[0;32mimport\u001B[0m \u001B[0mBasemap\u001B[0m\u001B[0;34m\u001B[0m\u001B[0;34m\u001B[0m\u001B[0m\n\u001B[0;32m----> 3\u001B[0;31m \u001B[0;32mfrom\u001B[0m \u001B[0maeroroutes\u001B[0m\u001B[0;34m.\u001B[0m\u001B[0mconstants\u001B[0m \u001B[0;32mimport\u001B[0m \u001B[0mR_earth_km\u001B[0m\u001B[0;34m,\u001B[0m \u001B[0md2r\u001B[0m\u001B[0;34m,\u001B[0m \u001B[0mr2d\u001B[0m\u001B[0;34m\u001B[0m\u001B[0;34m\u001B[0m\u001B[0m\n\u001B[0m\u001B[1;32m      4\u001B[0m \u001B[0;32mimport\u001B[0m \u001B[0mnumpy\u001B[0m \u001B[0;32mas\u001B[0m \u001B[0mnp\u001B[0m\u001B[0;34m\u001B[0m\u001B[0;34m\u001B[0m\u001B[0m\n\u001B[1;32m      5\u001B[0m \u001B[0;34m\u001B[0m\u001B[0m\n",
      "\u001B[0;31mModuleNotFoundError\u001B[0m: No module named 'aeroroutes'"
     ]
    }
   ],
   "source": [
    "import sys\n",
    "sys.path.append(\"../\") # go to parent dir\n",
    "from aeroroutes.tools import convert_dms_to_dec\n",
    "from aeroroutes.routes import ComputeOrto\n",
    "from aeroroutes.routes import ComputeLoxo\n",
    "from aeroroutes.tools import plot_routes\n",
    "import numpy as np"
   ]
  },
  {
   "cell_type": "code",
   "execution_count": null,
   "metadata": {
    "pycharm": {
     "name": "#%%\n"
    }
   },
   "outputs": [],
   "source": [
    "# origin an destination\n",
    "# Madrid:\n",
    "LEMD_lon = convert_dms_to_dec(3, 34, 2.47, 'W')\n",
    "LEMD_lat = convert_dms_to_dec(40, 29, 37.62, 'N')\n",
    "# Tokyo:\n",
    "RJAA_lon = convert_dms_to_dec(140, 23, 17.66, 'E')\n",
    "RJAA_lat = convert_dms_to_dec(35, 46, 24.78, 'N')"
   ]
  },
  {
   "cell_type": "code",
   "execution_count": null,
   "metadata": {
    "pycharm": {
     "name": "#%%\n"
    }
   },
   "outputs": [],
   "source": [
    "# create instances\n",
    "# Orthodrome:\n",
    "ortographic = ComputeOrto([LEMD_lon, LEMD_lat], [RJAA_lon, RJAA_lat], 100)\n",
    "\n",
    "# Loxodrome\n",
    "loxodromic = ComputeLoxo([LEMD_lon, LEMD_lat], [RJAA_lon, RJAA_lat], 100)\n"
   ]
  },
  {
   "cell_type": "code",
   "execution_count": null,
   "metadata": {
    "pycharm": {
     "name": "#%%\n"
    }
   },
   "outputs": [],
   "source": [
    "#obtain outputs values\n",
    "\n",
    "#Route with lons and lats along all segments.\n",
    "# Orthodrome:\n",
    "lon_o, lat_o = ortographic.get_route()\n",
    "print(lon_o, lat_o)\n",
    "# Loxodrome\n",
    "lon_l, lat_l = loxodromic.get_route()\n",
    "print(lon_l, lat_l )\n",
    "\n",
    "# Route distances in km.\n",
    "# Orthodrome:\n",
    "d_o = ortographic.get_distance_km()\n",
    "print(d_o)\n",
    "# Loxodrome\n",
    "d_l = loxodromic.get_distance_km()\n",
    "print(d_l)\n",
    "\n",
    "# Arc between point in the orthodrome route.\n",
    "d_o = ortographic.get_arc_between_points()\n",
    "print(d_o)\n",
    "\n",
    "# Geographic track in deg.\n",
    "gamma_o = loxodromic.get_geographic_track()\n",
    "print(gamma_o)"
   ]
  },
  {
   "cell_type": "code",
   "execution_count": null,
   "metadata": {
    "pycharm": {
     "name": "#%%\n"
    }
   },
   "outputs": [],
   "source": [
    "# Plot using Mercator projection\n",
    "\n",
    "kwargs = {\"projection\": 'merc', \"llcrnrlat\": 20, \"urcrnrlat\": 80, \"llcrnrlon\": -20,\n",
    "                  \"urcrnrlon\": 150, \"lat_ts\": 20, \"resolution\": 'c'}\n",
    "\n",
    "plot_routes(ortographic.lon_deg, ortographic.lat_deg,\n",
    "                    parallels=np.arange(30., 91., 30.),\n",
    "                    meridians=np.arange(-10., 181., 60.), **kwargs)\n",
    "\n",
    "plot_routes(loxodromic.lon_deg, loxodromic.lat_deg,\n",
    "                    parallels=np.arange(30., 91., 30.),\n",
    "                    meridians=np.arange(-10., 181., 60.), **kwargs)\n",
    "\n",
    "# Plot using Lamber Conformal projection\n",
    "kwargs = {\"projection\": 'lcc', \"width\": 12000000, \"height\": 9000000, \"rsphere\": (6378137.00, 6356752.3142),\n",
    "                  \"resolution\": 'l', \"area_thresh\": 1000., \"lat_1\": 45, \"lat_2\": 55, \"lat_0\": 50, \"lon_0\": 80.}\n",
    "\n",
    "plot_routes(ortographic.lon_deg, ortographic.lat_deg,\n",
    "                    parallels=np.arange(30., 91., 30.),\n",
    "                    meridians=np.arange(-10., 181., 60.), **kwargs)\n",
    "\n",
    "plot_routes(loxodromic.lon_deg, loxodromic.lat_deg,\n",
    "                    parallels=np.arange(30., 91., 30.),\n",
    "                    meridians=np.arange(-10., 181., 60.), **kwargs)"
   ]
  }
 ],
 "metadata": {
  "kernelspec": {
   "display_name": "Python 3",
   "language": "python",
   "name": "python3"
  },
  "language_info": {
   "codemirror_mode": {
    "name": "ipython",
    "version": 3
   },
   "file_extension": ".py",
   "mimetype": "text/x-python",
   "name": "python",
   "nbconvert_exporter": "python",
   "pygments_lexer": "ipython3",
   "version": "3.8.5"
  }
 },
 "nbformat": 4,
 "nbformat_minor": 1
}